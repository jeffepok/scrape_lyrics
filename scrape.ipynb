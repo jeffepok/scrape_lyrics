{
 "cells": [
  {
   "cell_type": "code",
   "execution_count": 41,
   "metadata": {},
   "outputs": [],
   "source": [
    "from bs4 import BeautifulSoup\n",
    "import requests\n"
   ]
  },
  {
   "cell_type": "code",
   "execution_count": 2,
   "metadata": {},
   "outputs": [],
   "source": [
    "source = requests.get('http://lyrics.ghospel.com/akan-songs/').text\n",
    "soup = BeautifulSoup(source, 'lxml')"
   ]
  },
  {
   "cell_type": "code",
   "execution_count": 3,
   "metadata": {},
   "outputs": [],
   "source": [
    "links = soup.find('div', 'p', 'title', class_ = 'entry-content clearfix')"
   ]
  },
  {
   "cell_type": "code",
   "execution_count": 4,
   "metadata": {},
   "outputs": [],
   "source": [
    "song_title_list = []\n",
    "lyrics_list = []\n",
    "for link in links.find_all('a'):\n",
    "    lyrics_page = requests.get(link.get('href')).text\n",
    "    lyrics_soup = BeautifulSoup(lyrics_page, 'lxml')\n",
    "    lyrics = lyrics_soup.find('div', class_ = 'entry-content clearfix').text\n",
    "    song_title_list.append(lyrics_soup.title.text)\n",
    "    lyrics_list.append(lyrics)"
   ]
  },
  {
   "cell_type": "code",
   "execution_count": 7,
   "metadata": {},
   "outputs": [],
   "source": [
    "all_lyrics = {\n",
    "    'title': song_title_list,\n",
    "    'lyrics': lyrics_list\n",
    "}"
   ]
  },
  {
   "cell_type": "code",
   "execution_count": 1,
   "metadata": {},
   "outputs": [],
   "source": [
    "import pandas as pd"
   ]
  },
  {
   "cell_type": "code",
   "execution_count": 9,
   "metadata": {},
   "outputs": [],
   "source": [
    "df = pd.DataFrame(all_lyrics)"
   ]
  },
  {
   "cell_type": "code",
   "execution_count": 18,
   "metadata": {},
   "outputs": [],
   "source": [
    "df.to_csv('E:\\scrape.csv')"
   ]
  },
  {
   "cell_type": "code",
   "execution_count": 44,
   "metadata": {},
   "outputs": [
    {
     "output_type": "execute_result",
     "data": {
      "text/plain": [
       "                                                   title  \\\n",
       "index                                                      \n",
       "0               Abandenden Ne Wo Yehowa | Ghospel Lyrics   \n",
       "1                 Abode Nyinaa Yi W'aye | Ghospel Lyrics   \n",
       "2       Abode Nyinara, Mo Nkoto Ewurade | Ghospel Lyrics   \n",
       "3       Abra Metse Ase Yi (Wo Se Ayeyi) | Ghospel Lyrics   \n",
       "4      Aden Nti Na Merenda W'ase Yehowa | Ghospel Lyrics   \n",
       "...                                                  ...   \n",
       "180                          Yesu Wo So | Ghospel Lyrics   \n",
       "181    Yesu Yε Ͻhene (Yεde Tumi Nyinara) | Ghospel Ly...   \n",
       "182    Yesu, Menni Obiara Ka Wo Ho, Meni Da Wo So | G...   \n",
       "183                     Yeyi Wo Din Aye | Ghospel Lyrics   \n",
       "184             Yi Na Ye (Efiri Se Oye) | Ghospel Lyrics   \n",
       "\n",
       "                                                  lyrics  \n",
       "index                                                     \n",
       "0      \\n﻿Abandenden ne wo Yehowa\\r\\n(The Lord is our...  \n",
       "1      \\n﻿Abode nyinaa yi W’aye Ewurade\\r\\n(All creat...  \n",
       "2      \\n﻿Abɔde nyinara, mo nkoto Ewurade\\r\\n(Let all...  \n",
       "3      \\n﻿Abra metse ase yi, meyi Wo din ayε\\r\\n(Whil...  \n",
       "4      \\n﻿Adεn nti na merennda W’ase Yehowa\\r\\n(Why w...  \n",
       "...                                                  ...  \n",
       "180    \\n﻿Yesu ee\\r\\n(Jesus)\\r\\nWo so\\r\\n(You are gre...  \n",
       "181    \\n﻿Yε de tumi nyinara ɔwɔ soro ne asaase\\r\\n(A...  \n",
       "182    \\n﻿Yesu ei, minni obiara ka Wo ho\\r\\n(Jesus, I...  \n",
       "183    \\n﻿Ɔɔε\\r\\nYeyi Wo din ayε \\r\\n(We praise Your ...  \n",
       "184    \\n﻿Efiri sε, Oye na N’adɔyε wɔ hɔ daa\\r\\n(Beca...  \n",
       "\n",
       "[185 rows x 2 columns]"
      ],
      "text/html": "<div>\n<style scoped>\n    .dataframe tbody tr th:only-of-type {\n        vertical-align: middle;\n    }\n\n    .dataframe tbody tr th {\n        vertical-align: top;\n    }\n\n    .dataframe thead th {\n        text-align: right;\n    }\n</style>\n<table border=\"1\" class=\"dataframe\">\n  <thead>\n    <tr style=\"text-align: right;\">\n      <th></th>\n      <th>title</th>\n      <th>lyrics</th>\n    </tr>\n    <tr>\n      <th>index</th>\n      <th></th>\n      <th></th>\n    </tr>\n  </thead>\n  <tbody>\n    <tr>\n      <th>0</th>\n      <td>Abandenden Ne Wo Yehowa | Ghospel Lyrics</td>\n      <td>\\n﻿Abandenden ne wo Yehowa\\r\\n(The Lord is our...</td>\n    </tr>\n    <tr>\n      <th>1</th>\n      <td>Abode Nyinaa Yi W'aye | Ghospel Lyrics</td>\n      <td>\\n﻿Abode nyinaa yi W’aye Ewurade\\r\\n(All creat...</td>\n    </tr>\n    <tr>\n      <th>2</th>\n      <td>Abode Nyinara, Mo Nkoto Ewurade | Ghospel Lyrics</td>\n      <td>\\n﻿Abɔde nyinara, mo nkoto Ewurade\\r\\n(Let all...</td>\n    </tr>\n    <tr>\n      <th>3</th>\n      <td>Abra Metse Ase Yi (Wo Se Ayeyi) | Ghospel Lyrics</td>\n      <td>\\n﻿Abra metse ase yi, meyi Wo din ayε\\r\\n(Whil...</td>\n    </tr>\n    <tr>\n      <th>4</th>\n      <td>Aden Nti Na Merenda W'ase Yehowa | Ghospel Lyrics</td>\n      <td>\\n﻿Adεn nti na merennda W’ase Yehowa\\r\\n(Why w...</td>\n    </tr>\n    <tr>\n      <th>...</th>\n      <td>...</td>\n      <td>...</td>\n    </tr>\n    <tr>\n      <th>180</th>\n      <td>Yesu Wo So | Ghospel Lyrics</td>\n      <td>\\n﻿Yesu ee\\r\\n(Jesus)\\r\\nWo so\\r\\n(You are gre...</td>\n    </tr>\n    <tr>\n      <th>181</th>\n      <td>Yesu Yε Ͻhene (Yεde Tumi Nyinara) | Ghospel Ly...</td>\n      <td>\\n﻿Yε de tumi nyinara ɔwɔ soro ne asaase\\r\\n(A...</td>\n    </tr>\n    <tr>\n      <th>182</th>\n      <td>Yesu, Menni Obiara Ka Wo Ho, Meni Da Wo So | G...</td>\n      <td>\\n﻿Yesu ei, minni obiara ka Wo ho\\r\\n(Jesus, I...</td>\n    </tr>\n    <tr>\n      <th>183</th>\n      <td>Yeyi Wo Din Aye | Ghospel Lyrics</td>\n      <td>\\n﻿Ɔɔε\\r\\nYeyi Wo din ayε \\r\\n(We praise Your ...</td>\n    </tr>\n    <tr>\n      <th>184</th>\n      <td>Yi Na Ye (Efiri Se Oye) | Ghospel Lyrics</td>\n      <td>\\n﻿Efiri sε, Oye na N’adɔyε wɔ hɔ daa\\r\\n(Beca...</td>\n    </tr>\n  </tbody>\n</table>\n<p>185 rows × 2 columns</p>\n</div>"
     },
     "metadata": {},
     "execution_count": 44
    }
   ],
   "source": [
    "df = pd.read_csv('scrape.csv', index_col = 'index')\n",
    "df"
   ]
  },
  {
   "cell_type": "code",
   "execution_count": 45,
   "metadata": {},
   "outputs": [],
   "source": [
    "df['twi'] = df['lyrics'].apply(lambda ly: ly.split('\\n')[1:]).apply(twi_lyrics)"
   ]
  },
  {
   "cell_type": "code",
   "execution_count": 51,
   "metadata": {},
   "outputs": [],
   "source": [
    "df['english'] = df['lyrics'].apply(lambda ly: ly.split('\\n')[1:]).apply(english_lyrics)"
   ]
  },
  {
   "cell_type": "code",
   "execution_count": 112,
   "metadata": {},
   "outputs": [],
   "source": [
    "new_df = df.drop('lyrics', axis = 1)"
   ]
  },
  {
   "cell_type": "code",
   "execution_count": 124,
   "metadata": {},
   "outputs": [],
   "source": [
    "new_df.to_csv('cleaned.csv')"
   ]
  },
  {
   "cell_type": "code",
   "execution_count": 113,
   "metadata": {},
   "outputs": [],
   "source": [
    "new_df['twi'] = new_df['twi'].apply(to_string)"
   ]
  },
  {
   "cell_type": "code",
   "execution_count": 115,
   "metadata": {},
   "outputs": [],
   "source": [
    "new_df['english'] = new_df['english'].apply(to_string)"
   ]
  },
  {
   "cell_type": "code",
   "execution_count": 121,
   "metadata": {},
   "outputs": [],
   "source": [
    "new_df[\"title\"] = new_df[\"title\"].apply(lambda title: title.replace(\"| Ghospel Lyrics\", \"\"))"
   ]
  },
  {
   "cell_type": "code",
   "execution_count": 122,
   "metadata": {},
   "outputs": [
    {
     "output_type": "execute_result",
     "data": {
      "text/plain": [
       "                                   title  \\\n",
       "index                                      \n",
       "0               Abandenden Ne Wo Yehowa    \n",
       "1                 Abode Nyinaa Yi W'aye    \n",
       "2       Abode Nyinara, Mo Nkoto Ewurade    \n",
       "3       Abra Metse Ase Yi (Wo Se Ayeyi)    \n",
       "4      Aden Nti Na Merenda W'ase Yehowa    \n",
       "\n",
       "                                                     twi  \\\n",
       "index                                                      \n",
       "0      ﻿Abandenden ne wo Yehowa, Wo mu na ahotsewfo n...   \n",
       "1      ﻿Abode nyinaa yi W’aye Ewurade, Me nso me yi W...   \n",
       "2      ﻿Abɔde nyinara, mo nkoto Ewurade, W’edi nkunim...   \n",
       "3      ﻿Abra metse ase yi, meyi Wo din ayε, Wo sε aye...   \n",
       "4      ﻿Adεn nti na merennda W’ase Yehowa, Sε mehwε W...   \n",
       "\n",
       "                                                 english  \n",
       "index                                                     \n",
       "0      (The Lord is our fortress), (In You, the right...  \n",
       "1      (All creation praise Your name), (I’ll praise ...  \n",
       "2      (Let all creation praise the Lord), (He has tr...  \n",
       "3      (While I live, I will praise Your name), (You ...  \n",
       "4      (Why won’t I praise You Jehovah), (When I see ...  "
      ],
      "text/html": "<div>\n<style scoped>\n    .dataframe tbody tr th:only-of-type {\n        vertical-align: middle;\n    }\n\n    .dataframe tbody tr th {\n        vertical-align: top;\n    }\n\n    .dataframe thead th {\n        text-align: right;\n    }\n</style>\n<table border=\"1\" class=\"dataframe\">\n  <thead>\n    <tr style=\"text-align: right;\">\n      <th></th>\n      <th>title</th>\n      <th>twi</th>\n      <th>english</th>\n    </tr>\n    <tr>\n      <th>index</th>\n      <th></th>\n      <th></th>\n      <th></th>\n    </tr>\n  </thead>\n  <tbody>\n    <tr>\n      <th>0</th>\n      <td>Abandenden Ne Wo Yehowa</td>\n      <td>﻿Abandenden ne wo Yehowa, Wo mu na ahotsewfo n...</td>\n      <td>(The Lord is our fortress), (In You, the right...</td>\n    </tr>\n    <tr>\n      <th>1</th>\n      <td>Abode Nyinaa Yi W'aye</td>\n      <td>﻿Abode nyinaa yi W’aye Ewurade, Me nso me yi W...</td>\n      <td>(All creation praise Your name), (I’ll praise ...</td>\n    </tr>\n    <tr>\n      <th>2</th>\n      <td>Abode Nyinara, Mo Nkoto Ewurade</td>\n      <td>﻿Abɔde nyinara, mo nkoto Ewurade, W’edi nkunim...</td>\n      <td>(Let all creation praise the Lord), (He has tr...</td>\n    </tr>\n    <tr>\n      <th>3</th>\n      <td>Abra Metse Ase Yi (Wo Se Ayeyi)</td>\n      <td>﻿Abra metse ase yi, meyi Wo din ayε, Wo sε aye...</td>\n      <td>(While I live, I will praise Your name), (You ...</td>\n    </tr>\n    <tr>\n      <th>4</th>\n      <td>Aden Nti Na Merenda W'ase Yehowa</td>\n      <td>﻿Adεn nti na merennda W’ase Yehowa, Sε mehwε W...</td>\n      <td>(Why won’t I praise You Jehovah), (When I see ...</td>\n    </tr>\n  </tbody>\n</table>\n</div>"
     },
     "metadata": {},
     "execution_count": 122
    }
   ],
   "source": [
    "new_df.head()"
   ]
  },
  {
   "cell_type": "code",
   "execution_count": 36,
   "metadata": {},
   "outputs": [],
   "source": [
    "def twi_lyrics(lyrics):\n",
    "    i = 0\n",
    "    twi_lyrics = []\n",
    "    for index in lyrics:\n",
    "        if i < len(lyrics):\n",
    "            twi_lyrics.append(lyrics[i])\n",
    "        i+=2\n",
    "    return twi_lyrics\n",
    "    "
   ]
  },
  {
   "cell_type": "code",
   "execution_count": 50,
   "metadata": {},
   "outputs": [],
   "source": [
    "def english_lyrics(lyrics):\n",
    "    i = 1\n",
    "    english_lyrics = []\n",
    "    for index in lyrics:\n",
    "        if i < len(lyrics):\n",
    "            english_lyrics.append(lyrics[i])\n",
    "        i+=2\n",
    "    return english_lyrics"
   ]
  },
  {
   "cell_type": "code",
   "execution_count": 107,
   "metadata": {},
   "outputs": [],
   "source": [
    "def to_string(lyric):\n",
    "    lyrics = \"\"\n",
    "    for index in lyric:\n",
    "        lyrics = lyrics + index\n",
    "    lyrics = lyrics.split(\"\\r\")\n",
    "    final_lyrics = lyrics[0]\n",
    "    for index in lyrics:\n",
    "        if index == final_lyrics:\n",
    "            continue\n",
    "        final_lyrics = final_lyrics + \",\" + \" \" + index\n",
    "    return final_lyrics"
   ]
  },
  {
   "cell_type": "code",
   "execution_count": 117,
   "metadata": {},
   "outputs": [],
   "source": [
    "def remove_gl(title):\n",
    "    return title.replace(\"| Ghospel Lyrics\")\n",
    "    "
   ]
  }
 ],
 "metadata": {
  "kernelspec": {
   "display_name": "Python 3",
   "language": "python",
   "name": "python3"
  },
  "language_info": {
   "codemirror_mode": {
    "name": "ipython",
    "version": 3
   },
   "file_extension": ".py",
   "mimetype": "text/x-python",
   "name": "python",
   "nbconvert_exporter": "python",
   "pygments_lexer": "ipython3",
   "version": "3.8.5-final"
  }
 },
 "nbformat": 4,
 "nbformat_minor": 4
}